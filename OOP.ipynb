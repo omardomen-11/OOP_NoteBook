{
  "cells": [
    {
      "cell_type": "code",
      "source": [
        "class Dog:\n",
        "\n",
        "  def __init__(self, name,age):\n",
        "    self.name = name\n",
        "    self.age = age"
      ],
      "metadata": {
        "id": "3jlFjaWqCam-"
      },
      "execution_count": null,
      "outputs": []
    },
    {
      "cell_type": "code",
      "source": [
        "dog_a = Dog(\"jac\" , 0)"
      ],
      "metadata": {
        "id": "jeEffztwCaiK"
      },
      "execution_count": null,
      "outputs": []
    },
    {
      "cell_type": "code",
      "source": [
        "print(dog_a.name)"
      ],
      "metadata": {
        "colab": {
          "base_uri": "https://localhost:8080/"
        },
        "id": "72nzpVuECaT-",
        "outputId": "8bdb4935-e023-482e-c0f9-68ef327fa14c"
      },
      "execution_count": null,
      "outputs": [
        {
          "output_type": "stream",
          "name": "stdout",
          "text": [
            "jac\n"
          ]
        }
      ]
    },
    {
      "cell_type": "code",
      "source": [
        "print(dog_a.age)"
      ],
      "metadata": {
        "colab": {
          "base_uri": "https://localhost:8080/"
        },
        "id": "h909snhvCaKz",
        "outputId": "1d3d4777-accb-42d0-a817-c68934405134"
      },
      "execution_count": null,
      "outputs": [
        {
          "output_type": "stream",
          "name": "stdout",
          "text": [
            "0\n"
          ]
        }
      ]
    },
    {
      "cell_type": "code",
      "source": [
        "class dog():\n",
        "\n",
        "  num_dogs = 0 #class_attribute\n",
        "  def __init__(self , name , age , height):\n",
        "    dog.num_dogs += 1\n",
        "    self.name = name    # instance attribute\n",
        "    self.age = age\n",
        "    self.height = height\n"
      ],
      "metadata": {
        "id": "24lzzkRGCZ5T"
      },
      "execution_count": null,
      "outputs": []
    },
    {
      "cell_type": "code",
      "source": [
        "print(dog.num_dogs)"
      ],
      "metadata": {
        "colab": {
          "base_uri": "https://localhost:8080/"
        },
        "id": "E1b4t7gxCZyD",
        "outputId": "a4d4c547-c123-49a9-892e-522d850ec514"
      },
      "execution_count": null,
      "outputs": [
        {
          "output_type": "stream",
          "name": "stdout",
          "text": [
            "0\n"
          ]
        }
      ]
    },
    {
      "cell_type": "code",
      "source": [
        "dog_b = dog(\"ssss\" , 4 , 30)\n"
      ],
      "metadata": {
        "id": "pEJgoRbjCZrJ"
      },
      "execution_count": null,
      "outputs": []
    },
    {
      "cell_type": "code",
      "source": [
        "print(dog.num_dogs)"
      ],
      "metadata": {
        "colab": {
          "base_uri": "https://localhost:8080/"
        },
        "id": "hE4egcWxIi1K",
        "outputId": "bde31ccd-6c80-454c-df8c-571cfd21435b"
      },
      "execution_count": null,
      "outputs": [
        {
          "output_type": "stream",
          "name": "stdout",
          "text": [
            "1\n"
          ]
        }
      ]
    },
    {
      "cell_type": "code",
      "source": [
        "print(dog_b.num_dogs)"
      ],
      "metadata": {
        "colab": {
          "base_uri": "https://localhost:8080/"
        },
        "id": "a--dimgOKnFo",
        "outputId": "b6ca980c-09b2-4023-ec66-62dd6d5765fd"
      },
      "execution_count": null,
      "outputs": [
        {
          "output_type": "stream",
          "name": "stdout",
          "text": [
            "1\n"
          ]
        }
      ]
    },
    {
      "cell_type": "code",
      "source": [
        "dog_c = dog(\"aaa\" , 5 , 20)"
      ],
      "metadata": {
        "id": "MSzaJbpTIxw0"
      },
      "execution_count": null,
      "outputs": []
    },
    {
      "cell_type": "code",
      "source": [
        "print(dog.num_dogs)"
      ],
      "metadata": {
        "colab": {
          "base_uri": "https://localhost:8080/"
        },
        "id": "z3wvI8JVI5MQ",
        "outputId": "f3d2b46a-85b0-4c1f-a3aa-a95c9efd4d45"
      },
      "execution_count": null,
      "outputs": [
        {
          "output_type": "stream",
          "name": "stdout",
          "text": [
            "2\n"
          ]
        }
      ]
    },
    {
      "cell_type": "code",
      "source": [
        "print(dog_c.num_dogs)"
      ],
      "metadata": {
        "colab": {
          "base_uri": "https://localhost:8080/"
        },
        "id": "GqPua3eTHotu",
        "outputId": "c3d6bf2c-a1a5-47a5-94b9-ccf0f5986461"
      },
      "execution_count": null,
      "outputs": [
        {
          "output_type": "stream",
          "name": "stdout",
          "text": [
            "2\n"
          ]
        }
      ]
    },
    {
      "cell_type": "code",
      "source": [
        "print(dog_b.num_dogs)"
      ],
      "metadata": {
        "colab": {
          "base_uri": "https://localhost:8080/"
        },
        "id": "-Z1z_iOII_T2",
        "outputId": "38090a5a-f1db-4d69-e12e-e1074b138342"
      },
      "execution_count": null,
      "outputs": [
        {
          "output_type": "stream",
          "name": "stdout",
          "text": [
            "2\n"
          ]
        }
      ]
    },
    {
      "cell_type": "code",
      "source": [
        "print(dog_b.num_dogs)"
      ],
      "metadata": {
        "colab": {
          "base_uri": "https://localhost:8080/"
        },
        "id": "jFDLYjZZHolq",
        "outputId": "b766c5e6-de49-4c2f-c50a-5d0e622f8d2b"
      },
      "execution_count": null,
      "outputs": [
        {
          "output_type": "stream",
          "name": "stdout",
          "text": [
            "1\n"
          ]
        }
      ]
    },
    {
      "cell_type": "code",
      "source": [
        "print(dog_b.name)\n",
        "print(dog_b.age)\n",
        "print(dog_b.height)"
      ],
      "metadata": {
        "colab": {
          "base_uri": "https://localhost:8080/"
        },
        "id": "f0ek2ZgsHodJ",
        "outputId": "bd29b66e-8b7f-40a6-de37-3884753ccb5d"
      },
      "execution_count": null,
      "outputs": [
        {
          "output_type": "stream",
          "name": "stdout",
          "text": [
            "ssss\n",
            "4\n",
            "30\n"
          ]
        }
      ]
    },
    {
      "cell_type": "code",
      "source": [
        "class student:\n",
        "\n",
        "  num_students = 0\n",
        "\n",
        "  def __init__(self , name , age , n_course):\n",
        "    self.s_name = name\n",
        "    self.s_age = age\n",
        "    self.s_courses = n_course\n",
        "    student.num_students += 1"
      ],
      "metadata": {
        "id": "aXsUsQvcPKKg"
      },
      "execution_count": null,
      "outputs": []
    },
    {
      "cell_type": "code",
      "source": [
        "print(student.num_students)"
      ],
      "metadata": {
        "colab": {
          "base_uri": "https://localhost:8080/"
        },
        "id": "8DVkqNOQPKGy",
        "outputId": "6a911fc3-42d1-4826-dff6-f94d9cba2630"
      },
      "execution_count": null,
      "outputs": [
        {
          "output_type": "stream",
          "name": "stdout",
          "text": [
            "0\n"
          ]
        }
      ]
    },
    {
      "cell_type": "code",
      "source": [
        "s_ahmed = student(\"ahmed\" , 25 , 10) "
      ],
      "metadata": {
        "id": "-gr5Vv7APKCW"
      },
      "execution_count": null,
      "outputs": []
    },
    {
      "cell_type": "code",
      "source": [
        "print(s_ahmed.s_courses)"
      ],
      "metadata": {
        "colab": {
          "base_uri": "https://localhost:8080/"
        },
        "id": "9k1HIOrGPJ72",
        "outputId": "5b4a205b-f42a-4d92-94e9-0d5ae1b352b7"
      },
      "execution_count": null,
      "outputs": [
        {
          "output_type": "stream",
          "name": "stdout",
          "text": [
            "10\n"
          ]
        }
      ]
    },
    {
      "cell_type": "code",
      "source": [
        "print(student.num_students)"
      ],
      "metadata": {
        "colab": {
          "base_uri": "https://localhost:8080/"
        },
        "id": "egk_IH4gPJ3_",
        "outputId": "153fa0f2-3a09-47b1-e0fc-85a68747264c"
      },
      "execution_count": null,
      "outputs": [
        {
          "output_type": "stream",
          "name": "stdout",
          "text": [
            "1\n"
          ]
        }
      ]
    },
    {
      "cell_type": "code",
      "source": [
        "s_mohamed = student(\"mohammed\" , 30 , 14)"
      ],
      "metadata": {
        "id": "H9zpxJVOPJ0u"
      },
      "execution_count": null,
      "outputs": []
    },
    {
      "cell_type": "code",
      "source": [
        "print(student.num_students)"
      ],
      "metadata": {
        "colab": {
          "base_uri": "https://localhost:8080/"
        },
        "id": "ewghB5gfHoaB",
        "outputId": "0a871c46-4d75-463a-e6c1-f1aff7eadce7"
      },
      "execution_count": null,
      "outputs": [
        {
          "output_type": "stream",
          "name": "stdout",
          "text": [
            "2\n"
          ]
        }
      ]
    },
    {
      "cell_type": "code",
      "source": [
        "print(s_mohamed.s_name)"
      ],
      "metadata": {
        "colab": {
          "base_uri": "https://localhost:8080/"
        },
        "id": "YoquPSbzCZTH",
        "outputId": "50885dfd-4190-42c8-b4bd-69e276697414"
      },
      "execution_count": null,
      "outputs": [
        {
          "output_type": "stream",
          "name": "stdout",
          "text": [
            "mohammed\n"
          ]
        }
      ]
    },
    {
      "cell_type": "code",
      "source": [
        ""
      ],
      "metadata": {
        "id": "8TLiL9vyR4Z1"
      },
      "execution_count": null,
      "outputs": []
    },
    {
      "cell_type": "code",
      "source": [
        "class dog():\n",
        "\n",
        "  num_dogs = 0 #class_attribute\n",
        "  def __init__(self , name , age , height):\n",
        "    dog.num_dogs += 1\n",
        "    self.namee = name    # instance attribute\n",
        "    self.agee = age\n",
        "    self.height = height\n",
        "\n",
        "  def bark(self):\n",
        "    print(\"bark bark !!\")     \n",
        "\n",
        "  def doginfo(self):\n",
        "    print(\"this dog's name is \" , self.namee , \"the dog's age is \" , self.agee , \"and it's height is \" , self.height)"
      ],
      "metadata": {
        "id": "XPfgdu6HR4Vo"
      },
      "execution_count": null,
      "outputs": []
    },
    {
      "cell_type": "code",
      "source": [
        "dog_0 = dog(\"jac\" , 1 , 15)\n",
        "dog_1 = dog(\"stassy\" , 1.5 , 10)"
      ],
      "metadata": {
        "id": "DYPF6KE7R4Rg"
      },
      "execution_count": null,
      "outputs": []
    },
    {
      "cell_type": "code",
      "source": [
        "dog_0.bark()"
      ],
      "metadata": {
        "colab": {
          "base_uri": "https://localhost:8080/"
        },
        "id": "f7NOzoSaR4L0",
        "outputId": "563603af-b32d-4ad0-e297-e46dc2eb0e3b"
      },
      "execution_count": null,
      "outputs": [
        {
          "output_type": "stream",
          "name": "stdout",
          "text": [
            "bark bark !!\n"
          ]
        }
      ]
    },
    {
      "cell_type": "code",
      "source": [
        "dog_1.bark()"
      ],
      "metadata": {
        "colab": {
          "base_uri": "https://localhost:8080/"
        },
        "id": "sV7Ae6eSR4H2",
        "outputId": "7baff590-3b15-4b12-8cab-4087bb294631"
      },
      "execution_count": null,
      "outputs": [
        {
          "output_type": "stream",
          "name": "stdout",
          "text": [
            "bark bark !!\n"
          ]
        }
      ]
    },
    {
      "cell_type": "code",
      "source": [
        "dog_0.doginfo()"
      ],
      "metadata": {
        "colab": {
          "base_uri": "https://localhost:8080/"
        },
        "id": "o8q6d36BR4Cq",
        "outputId": "f8457afd-1189-4a97-f6c2-83608d095a55"
      },
      "execution_count": null,
      "outputs": [
        {
          "output_type": "stream",
          "name": "stdout",
          "text": [
            "this dog's name is  jac the dog's age is  1 and it's height is  15\n"
          ]
        }
      ]
    },
    {
      "cell_type": "code",
      "source": [
        "dog_1.doginfo()"
      ],
      "metadata": {
        "colab": {
          "base_uri": "https://localhost:8080/"
        },
        "id": "q3HA0fTAR3-q",
        "outputId": "98b9f860-a58c-4c92-c720-4e9fc9e108c9"
      },
      "execution_count": null,
      "outputs": [
        {
          "output_type": "stream",
          "name": "stdout",
          "text": [
            "this dog's name is  stassy the dog's age is  1.5 and it's height is  10\n"
          ]
        }
      ]
    },
    {
      "cell_type": "code",
      "source": [
        ""
      ],
      "metadata": {
        "id": "YpaBAzN7R354"
      },
      "execution_count": null,
      "outputs": []
    },
    {
      "cell_type": "code",
      "source": [
        "class student:\n",
        "\n",
        "  school_name = \"abc school\"\n",
        "\n",
        "  def __init__(self , name , age ):\n",
        "    self.name = name \n",
        "    self.age = age\n",
        "\n",
        "  def show(self):\n",
        "    print(self.name , self.age , student.school_name)\n",
        "\n",
        "  @classmethod\n",
        "  def change_school(cls , name):\n",
        "    cls.school_name = name\n",
        "\n",
        "  @staticmethod\n",
        "  def find_notes(sublect_name):\n",
        "    return ['chapter_1' , 'chapter_2' , 'chapter_3']  \n",
        "\n"
      ],
      "metadata": {
        "id": "PskbnM2xR31M"
      },
      "execution_count": null,
      "outputs": []
    },
    {
      "cell_type": "code",
      "source": [
        "ahmed = student(\"ahmeed\" , 24)"
      ],
      "metadata": {
        "id": "ZR_k6GKoR3w2"
      },
      "execution_count": null,
      "outputs": []
    },
    {
      "cell_type": "code",
      "source": [
        "ahmed.find_notes(\"chemistry\")"
      ],
      "metadata": {
        "colab": {
          "base_uri": "https://localhost:8080/"
        },
        "id": "DQeREF1tbo5J",
        "outputId": "0017ab80-87e2-4c93-aad6-48eca6c6e882"
      },
      "execution_count": null,
      "outputs": [
        {
          "output_type": "execute_result",
          "data": {
            "text/plain": [
              "['chapter_1', 'chapter_2', 'chapter_3']"
            ]
          },
          "metadata": {},
          "execution_count": 70
        }
      ]
    },
    {
      "cell_type": "code",
      "source": [
        "ahmed.show()"
      ],
      "metadata": {
        "colab": {
          "base_uri": "https://localhost:8080/"
        },
        "id": "I3YV4o1OR3sC",
        "outputId": "4677aaf4-c42d-44ea-f990-aa94ec723d77"
      },
      "execution_count": null,
      "outputs": [
        {
          "output_type": "stream",
          "name": "stdout",
          "text": [
            "ahmeed 24 abc school\n"
          ]
        }
      ]
    },
    {
      "cell_type": "code",
      "source": [
        "ahmed.change_school(\"ccc school\")"
      ],
      "metadata": {
        "id": "3j7a-E4pR3nF"
      },
      "execution_count": null,
      "outputs": []
    },
    {
      "cell_type": "code",
      "source": [
        "print(student.school_name)"
      ],
      "metadata": {
        "colab": {
          "base_uri": "https://localhost:8080/"
        },
        "id": "SUNEDwkgR3ip",
        "outputId": "4c949e73-7e47-4ac4-f8da-9588d818f544"
      },
      "execution_count": null,
      "outputs": [
        {
          "output_type": "stream",
          "name": "stdout",
          "text": [
            "ccc school\n"
          ]
        }
      ]
    },
    {
      "cell_type": "code",
      "source": [
        "print(ahmed.school_name)"
      ],
      "metadata": {
        "colab": {
          "base_uri": "https://localhost:8080/"
        },
        "id": "eWLyrPuCaY4o",
        "outputId": "0e03cbb1-21f8-4944-cc15-8127795dc687"
      },
      "execution_count": null,
      "outputs": [
        {
          "output_type": "stream",
          "name": "stdout",
          "text": [
            "ccc school\n"
          ]
        }
      ]
    },
    {
      "cell_type": "code",
      "source": [
        "class student:\n",
        "\n",
        "  num_students = 0\n",
        "\n",
        "  def __init__(self , name , age , n_course):\n",
        "    self.s_name = name\n",
        "    self.s_age = age\n",
        "    self.s_courses = n_course\n",
        "    student.num_students += 1"
      ],
      "metadata": {
        "id": "LP10hmmLxhJj"
      },
      "execution_count": null,
      "outputs": []
    },
    {
      "cell_type": "code",
      "source": [
        ""
      ],
      "metadata": {
        "id": "qCDECUgtxhD-"
      },
      "execution_count": null,
      "outputs": []
    },
    {
      "cell_type": "code",
      "source": [
        ""
      ],
      "metadata": {
        "id": "6pApYNxjaYkd"
      },
      "execution_count": null,
      "outputs": []
    },
    {
      "cell_type": "code",
      "execution_count": null,
      "metadata": {
        "id": "-oj0CoyH3GfU"
      },
      "outputs": [],
      "source": [
        "class Vehicle():\n",
        "    \n",
        "    def __init__(self, speed, color):\n",
        "        self.color = color\n",
        "        self.speed = speed\n",
        "    \n",
        "    def what_color(self):\n",
        "        print('my color is: ' + self.color)\n",
        "        \n",
        "    def drive(self):\n",
        "        print('Driving with speed: ' + str(self.speed))"
      ]
    },
    {
      "cell_type": "markdown",
      "metadata": {
        "id": "iGaodels3Gfh"
      },
      "source": [
        "## Dunder methods or magic methods "
      ]
    },
    {
      "cell_type": "code",
      "execution_count": null,
      "metadata": {
        "colab": {
          "base_uri": "https://localhost:8080/",
          "height": 71
        },
        "id": "8oArpjIU3Gfl",
        "outputId": "5c0d8402-f629-4f9e-d40a-ad1522f53932"
      },
      "outputs": [
        {
          "output_type": "stream",
          "name": "stdout",
          "text": [
            "Driving with speed: 100\n",
            "my color is: red\n"
          ]
        },
        {
          "output_type": "execute_result",
          "data": {
            "text/plain": [
              "'red'"
            ],
            "application/vnd.google.colaboratory.intrinsic+json": {
              "type": "string"
            }
          },
          "metadata": {},
          "execution_count": 100
        }
      ],
      "source": [
        "hundai = Vehicle(100, 'red')\n",
        "\n",
        "hundai.drive()\n",
        "hundai.what_color()\n",
        "hundai.color"
      ]
    },
    {
      "cell_type": "code",
      "execution_count": null,
      "metadata": {
        "collapsed": true,
        "id": "ntg9PvX13Gfo"
      },
      "outputs": [],
      "source": [
        "class Car(Vehicle):\n",
        "\n",
        "    \n",
        "    def drive_1(self):\n",
        "        print('start with ur key and power me on')\n",
        "        \n",
        "               \n",
        "class Plane(Vehicle):\n",
        "    \n",
        "    def drive(self):\n",
        "        print('Im Flying')\n",
        "    "
      ]
    },
    {
      "cell_type": "code",
      "execution_count": null,
      "metadata": {
        "colab": {
          "base_uri": "https://localhost:8080/"
        },
        "id": "G5TmgNNL3Gfq",
        "outputId": "1a36c97d-4910-4033-ad29-c26025208f46"
      },
      "outputs": [
        {
          "output_type": "stream",
          "name": "stdout",
          "text": [
            "Driving with speed: 100\n"
          ]
        },
        {
          "output_type": "execute_result",
          "data": {
            "text/plain": [
              "100"
            ]
          },
          "metadata": {},
          "execution_count": 104
        }
      ],
      "source": [
        "mitsupishi = Car(100, 'red')\n",
        "\n",
        "mitsupishi.drive()\n",
        "mitsupishi.speed"
      ]
    },
    {
      "cell_type": "code",
      "execution_count": null,
      "metadata": {
        "collapsed": true,
        "id": "dhMZLvdZ3Gfr"
      },
      "outputs": [],
      "source": [
        "plane1 = Plane(700, 'white')"
      ]
    },
    {
      "cell_type": "code",
      "execution_count": null,
      "metadata": {
        "colab": {
          "base_uri": "https://localhost:8080/"
        },
        "id": "kqvyT-uE3Gfs",
        "outputId": "36de55f6-996d-401c-e18e-013da92a6964"
      },
      "outputs": [
        {
          "output_type": "stream",
          "name": "stdout",
          "text": [
            "Im Flying\n"
          ]
        },
        {
          "output_type": "execute_result",
          "data": {
            "text/plain": [
              "700"
            ]
          },
          "metadata": {},
          "execution_count": 106
        }
      ],
      "source": [
        "plane1.drive()\n",
        "plane1.speed"
      ]
    },
    {
      "cell_type": "code",
      "execution_count": null,
      "metadata": {
        "collapsed": true,
        "id": "_8ZPrWxc3Gfv"
      },
      "outputs": [],
      "source": [
        "#task :\n",
        "    \n",
        "   ## make a calculator class that add , subtract and multiblicate two nums"
      ]
    },
    {
      "cell_type": "code",
      "execution_count": null,
      "metadata": {
        "collapsed": true,
        "id": "TKlGYygi3Gfy"
      },
      "outputs": [],
      "source": [
        ""
      ]
    },
    {
      "cell_type": "code",
      "execution_count": null,
      "metadata": {
        "id": "lWUufpc33Gf0"
      },
      "outputs": [],
      "source": [
        ""
      ]
    },
    {
      "cell_type": "code",
      "execution_count": null,
      "metadata": {
        "id": "tWHZZ4Qj3Gf0"
      },
      "outputs": [],
      "source": [
        ""
      ]
    },
    {
      "cell_type": "code",
      "execution_count": null,
      "metadata": {
        "id": "f4oE4_sU3Gf1"
      },
      "outputs": [],
      "source": [
        ""
      ]
    },
    {
      "cell_type": "code",
      "execution_count": null,
      "metadata": {
        "collapsed": true,
        "id": "WoIEIe6w3Gf2"
      },
      "outputs": [],
      "source": [
        ""
      ]
    },
    {
      "cell_type": "code",
      "execution_count": null,
      "metadata": {
        "collapsed": true,
        "id": "ANXQu2Ux3Gf2"
      },
      "outputs": [],
      "source": [
        "class calc():\n",
        "    __pi = 3.14\n",
        "    def __init__(self,a,b):\n",
        "        self.a=a\n",
        "        self.b=b\n",
        "\n",
        "    def Circle_area(self):\n",
        "      print(self.__pi)\n",
        "      return (self.__pi) * (self.a **2)\n",
        "\n",
        "    \n",
        "    \n",
        "    def add(self):\n",
        "        return self.a+self.b\n",
        "    \n",
        "    def sub(self):\n",
        "        return self.a-self.b\n",
        "    \n",
        "      \n",
        "    def mult(self):\n",
        "        return self.a*self.b"
      ]
    },
    {
      "cell_type": "code",
      "source": [
        "cir = calc(2 , 3)"
      ],
      "metadata": {
        "id": "AJ2ovZjp6PMy"
      },
      "execution_count": null,
      "outputs": []
    },
    {
      "cell_type": "code",
      "source": [
        "cir.Circle_area()"
      ],
      "metadata": {
        "colab": {
          "base_uri": "https://localhost:8080/"
        },
        "id": "r4g5puwI6XUn",
        "outputId": "2da69d5a-d93d-4232-a825-bd95d2d3fc56"
      },
      "execution_count": null,
      "outputs": [
        {
          "output_type": "stream",
          "name": "stdout",
          "text": [
            "3.14\n"
          ]
        },
        {
          "output_type": "execute_result",
          "data": {
            "text/plain": [
              "12.56"
            ]
          },
          "metadata": {},
          "execution_count": 97
        }
      ]
    },
    {
      "cell_type": "code",
      "source": [
        "print(cir.__pi)"
      ],
      "metadata": {
        "colab": {
          "base_uri": "https://localhost:8080/",
          "height": 166
        },
        "id": "EySvxuLQ6mKf",
        "outputId": "7c2df23b-fb67-433e-eedc-66bb725bff99"
      },
      "execution_count": null,
      "outputs": [
        {
          "output_type": "error",
          "ename": "AttributeError",
          "evalue": "ignored",
          "traceback": [
            "\u001b[0;31m---------------------------------------------------------------------------\u001b[0m",
            "\u001b[0;31mAttributeError\u001b[0m                            Traceback (most recent call last)",
            "\u001b[0;32m<ipython-input-98-ac26e88aa100>\u001b[0m in \u001b[0;36m<module>\u001b[0;34m\u001b[0m\n\u001b[0;32m----> 1\u001b[0;31m \u001b[0mprint\u001b[0m\u001b[0;34m(\u001b[0m\u001b[0mcir\u001b[0m\u001b[0;34m.\u001b[0m\u001b[0m__pi\u001b[0m\u001b[0;34m)\u001b[0m\u001b[0;34m\u001b[0m\u001b[0;34m\u001b[0m\u001b[0m\n\u001b[0m",
            "\u001b[0;31mAttributeError\u001b[0m: 'calc' object has no attribute '__pi'"
          ]
        }
      ]
    },
    {
      "cell_type": "code",
      "execution_count": null,
      "metadata": {
        "colab": {
          "base_uri": "https://localhost:8080/"
        },
        "id": "penq8FF53Gf3",
        "outputId": "1c71fd53-f4cc-4a36-f61d-36ca31c2d0cc"
      },
      "outputs": [
        {
          "output_type": "stream",
          "name": "stdout",
          "text": [
            "11\n",
            "-1\n",
            "30\n"
          ]
        }
      ],
      "source": [
        "ca=calc(5,6)\n",
        "print(ca.add())\n",
        "print(ca.sub())\n",
        "print(ca.mult())"
      ]
    },
    {
      "cell_type": "markdown",
      "metadata": {
        "id": "41QJ3P8T3Gf4"
      },
      "source": [
        "# Inheretance "
      ]
    },
    {
      "cell_type": "code",
      "execution_count": null,
      "metadata": {
        "id": "F8RlvDVH3Gf5"
      },
      "outputs": [],
      "source": [
        "class calc():\n",
        "    def __init__(self,a,b):\n",
        "        self.a=a\n",
        "        self.b=b\n",
        "    \n",
        "    \n",
        "    def add(self):\n",
        "        return self.a+self.b\n",
        "    \n",
        "    def sub(self):\n",
        "        return self.a-self.b\n",
        "    \n",
        "      \n",
        "    def mult(self):\n",
        "        return self.a*self.b"
      ]
    },
    {
      "cell_type": "code",
      "execution_count": null,
      "metadata": {
        "id": "I-BS4qaC3Gf5"
      },
      "outputs": [],
      "source": [
        "class scientific(calc):\n",
        "    def power(self):\n",
        "        return self.a ** self.b"
      ]
    },
    {
      "cell_type": "code",
      "execution_count": null,
      "metadata": {
        "id": "-aGU79dT3Gf6"
      },
      "outputs": [],
      "source": [
        "x=scientific(20,30)"
      ]
    },
    {
      "cell_type": "code",
      "execution_count": null,
      "metadata": {
        "colab": {
          "base_uri": "https://localhost:8080/"
        },
        "id": "rbKZG_9H3Gf7",
        "outputId": "da804b27-e01e-4c2e-c135-b34733a1064d"
      },
      "outputs": [
        {
          "output_type": "execute_result",
          "data": {
            "text/plain": [
              "50"
            ]
          },
          "metadata": {},
          "execution_count": 88
        }
      ],
      "source": [
        "x.add()"
      ]
    },
    {
      "cell_type": "code",
      "execution_count": null,
      "metadata": {
        "colab": {
          "base_uri": "https://localhost:8080/"
        },
        "id": "3BzBK0OX3Gf7",
        "outputId": "14a23bba-5ae1-4f33-e10a-8bdf52f76af0"
      },
      "outputs": [
        {
          "output_type": "execute_result",
          "data": {
            "text/plain": [
              "600"
            ]
          },
          "metadata": {},
          "execution_count": 89
        }
      ],
      "source": [
        "x.mult()"
      ]
    },
    {
      "cell_type": "code",
      "execution_count": null,
      "metadata": {
        "colab": {
          "base_uri": "https://localhost:8080/"
        },
        "id": "p9XgJmLM3Gf8",
        "outputId": "128bf0d9-3166-4cb7-b80d-fcb555419f6c"
      },
      "outputs": [
        {
          "output_type": "execute_result",
          "data": {
            "text/plain": [
              "1073741824000000000000000000000000000000"
            ]
          },
          "metadata": {},
          "execution_count": 90
        }
      ],
      "source": [
        "x.power()"
      ]
    },
    {
      "cell_type": "code",
      "source": [
        ""
      ],
      "metadata": {
        "id": "-NSIkpkAxZQh"
      },
      "execution_count": null,
      "outputs": []
    },
    {
      "cell_type": "code",
      "source": [
        ""
      ],
      "metadata": {
        "id": "40Q81Ns_xZNx"
      },
      "execution_count": null,
      "outputs": []
    },
    {
      "cell_type": "code",
      "source": [
        "class Rectangle():\n",
        "\n",
        "  __length = 0\n",
        "  __breadth = 0\n",
        "\n",
        "  def __init__(self):\n",
        "    #constructor\n",
        "    self.__length = 5\n",
        "    self.__breadth = 3\n",
        "    print(self.__length)\n",
        "    print(self.__breadth)\n",
        "\n",
        "\n",
        "rec = Rectangle()"
      ],
      "metadata": {
        "colab": {
          "base_uri": "https://localhost:8080/"
        },
        "id": "HGpBLdInxZJ6",
        "outputId": "a7ff7ebd-e09b-485a-b00b-becc3ccccd65"
      },
      "execution_count": null,
      "outputs": [
        {
          "output_type": "stream",
          "name": "stdout",
          "text": [
            "5\n",
            "3\n"
          ]
        }
      ]
    },
    {
      "cell_type": "code",
      "source": [
        "print(rec.__length)    "
      ],
      "metadata": {
        "colab": {
          "base_uri": "https://localhost:8080/",
          "height": 166
        },
        "id": "TvGkvEXoxZGi",
        "outputId": "2c6cb62d-8e4b-4e62-89a1-dd0f10d02a61"
      },
      "execution_count": null,
      "outputs": [
        {
          "output_type": "error",
          "ename": "AttributeError",
          "evalue": "ignored",
          "traceback": [
            "\u001b[0;31m---------------------------------------------------------------------------\u001b[0m",
            "\u001b[0;31mAttributeError\u001b[0m                            Traceback (most recent call last)",
            "\u001b[0;32m<ipython-input-75-53baedcd8cb1>\u001b[0m in \u001b[0;36m<module>\u001b[0;34m\u001b[0m\n\u001b[0;32m----> 1\u001b[0;31m \u001b[0mprint\u001b[0m\u001b[0;34m(\u001b[0m\u001b[0mrec\u001b[0m\u001b[0;34m.\u001b[0m\u001b[0m__length\u001b[0m\u001b[0;34m)\u001b[0m\u001b[0;34m\u001b[0m\u001b[0;34m\u001b[0m\u001b[0m\n\u001b[0m",
            "\u001b[0;31mAttributeError\u001b[0m: 'Rectangle' object has no attribute '__length'"
          ]
        }
      ]
    },
    {
      "cell_type": "code",
      "source": [
        "class shape:\n",
        "  _length = 20\n",
        "  _breadth = 15\n",
        "\n",
        "\n"
      ],
      "metadata": {
        "id": "anmzYd7vxZCg"
      },
      "execution_count": null,
      "outputs": []
    },
    {
      "cell_type": "code",
      "source": [
        "class circle(shape):\n",
        "\n",
        "  def __init__(self):\n",
        "    print(self._length)\n",
        "    print(self._breadth)\n"
      ],
      "metadata": {
        "id": "UCF1kNRy1_h2"
      },
      "execution_count": null,
      "outputs": []
    },
    {
      "cell_type": "code",
      "source": [
        "cr = circle()"
      ],
      "metadata": {
        "colab": {
          "base_uri": "https://localhost:8080/"
        },
        "id": "4sePrIbvxY_Q",
        "outputId": "9e2b319e-18be-4d61-ce07-83a1a319c04d"
      },
      "execution_count": null,
      "outputs": [
        {
          "output_type": "stream",
          "name": "stdout",
          "text": [
            "20\n",
            "15\n"
          ]
        }
      ]
    },
    {
      "cell_type": "code",
      "source": [
        "print(cr._length)"
      ],
      "metadata": {
        "colab": {
          "base_uri": "https://localhost:8080/"
        },
        "id": "9Q09yUbExY5w",
        "outputId": "10eca862-057f-4257-a10d-45584e840cb3"
      },
      "execution_count": null,
      "outputs": [
        {
          "output_type": "stream",
          "name": "stdout",
          "text": [
            "20\n"
          ]
        }
      ]
    },
    {
      "cell_type": "code",
      "source": [
        ""
      ],
      "metadata": {
        "id": "Bm5Q48BWxYuv"
      },
      "execution_count": null,
      "outputs": []
    }
  ],
  "metadata": {
    "kernelspec": {
      "display_name": "Python 3 (ipykernel)",
      "language": "python",
      "name": "python3"
    },
    "language_info": {
      "codemirror_mode": {
        "name": "ipython",
        "version": 3
      },
      "file_extension": ".py",
      "mimetype": "text/x-python",
      "name": "python",
      "nbconvert_exporter": "python",
      "pygments_lexer": "ipython3",
      "version": "3.9.7"
    },
    "colab": {
      "name": "OOP.ipynb",
      "provenance": [],
      "collapsed_sections": []
    }
  },
  "nbformat": 4,
  "nbformat_minor": 0
}